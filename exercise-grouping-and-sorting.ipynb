{
 "cells": [
  {
   "cell_type": "markdown",
   "id": "dfe73c55",
   "metadata": {
    "papermill": {
     "duration": 0.008108,
     "end_time": "2023-06-27T18:15:06.305961",
     "exception": false,
     "start_time": "2023-06-27T18:15:06.297853",
     "status": "completed"
    },
    "tags": []
   },
   "source": [
    "**This notebook is an exercise in the [Pandas](https://www.kaggle.com/learn/pandas) course.  You can reference the tutorial at [this link](https://www.kaggle.com/residentmario/grouping-and-sorting).**\n",
    "\n",
    "---\n"
   ]
  },
  {
   "cell_type": "markdown",
   "id": "77eeb71b",
   "metadata": {
    "papermill": {
     "duration": 0.007299,
     "end_time": "2023-06-27T18:15:06.321465",
     "exception": false,
     "start_time": "2023-06-27T18:15:06.314166",
     "status": "completed"
    },
    "tags": []
   },
   "source": [
    "# Introduction\n",
    "\n",
    "In these exercises we'll apply groupwise analysis to our dataset.\n",
    "\n",
    "Run the code cell below to load the data before running the exercises."
   ]
  },
  {
   "cell_type": "code",
   "execution_count": 1,
   "id": "ee23c680",
   "metadata": {
    "execution": {
     "iopub.execute_input": "2023-06-27T18:15:06.338413Z",
     "iopub.status.busy": "2023-06-27T18:15:06.337981Z",
     "iopub.status.idle": "2023-06-27T18:15:09.703210Z",
     "shell.execute_reply": "2023-06-27T18:15:09.701772Z"
    },
    "papermill": {
     "duration": 3.37733,
     "end_time": "2023-06-27T18:15:09.706330",
     "exception": false,
     "start_time": "2023-06-27T18:15:06.329000",
     "status": "completed"
    },
    "tags": []
   },
   "outputs": [
    {
     "name": "stdout",
     "output_type": "stream",
     "text": [
      "         country                                        description  \\\n",
      "0          Italy  Aromas include tropical fruit, broom, brimston...   \n",
      "1       Portugal  This is ripe and fruity, a wine that is smooth...   \n",
      "2             US  Tart and snappy, the flavors of lime flesh and...   \n",
      "3             US  Pineapple rind, lemon pith and orange blossom ...   \n",
      "4             US  Much like the regular bottling from 2012, this...   \n",
      "...          ...                                                ...   \n",
      "129966   Germany  Notes of honeysuckle and cantaloupe sweeten th...   \n",
      "129967        US  Citation is given as much as a decade of bottl...   \n",
      "129968    France  Well-drained gravel soil gives this wine its c...   \n",
      "129969    France  A dry style of Pinot Gris, this is crisp with ...   \n",
      "129970    France  Big, rich and off-dry, this is powered by inte...   \n",
      "\n",
      "                                   designation  points  price  \\\n",
      "0                                 Vulkà Bianco      87    NaN   \n",
      "1                                     Avidagos      87   15.0   \n",
      "2                                          NaN      87   14.0   \n",
      "3                         Reserve Late Harvest      87   13.0   \n",
      "4           Vintner's Reserve Wild Child Block      87   65.0   \n",
      "...                                        ...     ...    ...   \n",
      "129966  Brauneberger Juffer-Sonnenuhr Spätlese      90   28.0   \n",
      "129967                                     NaN      90   75.0   \n",
      "129968                                   Kritt      90   30.0   \n",
      "129969                                     NaN      90   32.0   \n",
      "129970           Lieu-dit Harth Cuvée Caroline      90   21.0   \n",
      "\n",
      "                 province             region_1           region_2  \\\n",
      "0       Sicily & Sardinia                 Etna                NaN   \n",
      "1                   Douro                  NaN                NaN   \n",
      "2                  Oregon    Willamette Valley  Willamette Valley   \n",
      "3                Michigan  Lake Michigan Shore                NaN   \n",
      "4                  Oregon    Willamette Valley  Willamette Valley   \n",
      "...                   ...                  ...                ...   \n",
      "129966              Mosel                  NaN                NaN   \n",
      "129967             Oregon               Oregon       Oregon Other   \n",
      "129968             Alsace               Alsace                NaN   \n",
      "129969             Alsace               Alsace                NaN   \n",
      "129970             Alsace               Alsace                NaN   \n",
      "\n",
      "               taster_name taster_twitter_handle  \\\n",
      "0            Kerin O’Keefe          @kerinokeefe   \n",
      "1               Roger Voss            @vossroger   \n",
      "2             Paul Gregutt           @paulgwine    \n",
      "3       Alexander Peartree                   NaN   \n",
      "4             Paul Gregutt           @paulgwine    \n",
      "...                    ...                   ...   \n",
      "129966  Anna Lee C. Iijima                   NaN   \n",
      "129967        Paul Gregutt           @paulgwine    \n",
      "129968          Roger Voss            @vossroger   \n",
      "129969          Roger Voss            @vossroger   \n",
      "129970          Roger Voss            @vossroger   \n",
      "\n",
      "                                                    title         variety  \\\n",
      "0                       Nicosia 2013 Vulkà Bianco  (Etna)     White Blend   \n",
      "1           Quinta dos Avidagos 2011 Avidagos Red (Douro)  Portuguese Red   \n",
      "2           Rainstorm 2013 Pinot Gris (Willamette Valley)      Pinot Gris   \n",
      "3       St. Julian 2013 Reserve Late Harvest Riesling ...        Riesling   \n",
      "4       Sweet Cheeks 2012 Vintner's Reserve Wild Child...      Pinot Noir   \n",
      "...                                                   ...             ...   \n",
      "129966  Dr. H. Thanisch (Erben Müller-Burggraef) 2013 ...        Riesling   \n",
      "129967                  Citation 2004 Pinot Noir (Oregon)      Pinot Noir   \n",
      "129968  Domaine Gresser 2013 Kritt Gewurztraminer (Als...  Gewürztraminer   \n",
      "129969      Domaine Marcel Deiss 2012 Pinot Gris (Alsace)      Pinot Gris   \n",
      "129970  Domaine Schoffit 2012 Lieu-dit Harth Cuvée Car...  Gewürztraminer   \n",
      "\n",
      "                                          winery  \n",
      "0                                        Nicosia  \n",
      "1                            Quinta dos Avidagos  \n",
      "2                                      Rainstorm  \n",
      "3                                     St. Julian  \n",
      "4                                   Sweet Cheeks  \n",
      "...                                          ...  \n",
      "129966  Dr. H. Thanisch (Erben Müller-Burggraef)  \n",
      "129967                                  Citation  \n",
      "129968                           Domaine Gresser  \n",
      "129969                      Domaine Marcel Deiss  \n",
      "129970                          Domaine Schoffit  \n",
      "\n",
      "[129971 rows x 13 columns]\n",
      "Setup complete.\n"
     ]
    }
   ],
   "source": [
    "import pandas as pd\n",
    "\n",
    "reviews = pd.read_csv(\"../input/wine-reviews/winemag-data-130k-v2.csv\", index_col=0)\n",
    "#pd.set_option(\"display.max_rows\", 5)\n",
    "print(reviews)\n",
    "from learntools.core import binder; binder.bind(globals())\n",
    "from learntools.pandas.grouping_and_sorting import *\n",
    "print(\"Setup complete.\")"
   ]
  },
  {
   "cell_type": "markdown",
   "id": "ca141612",
   "metadata": {
    "papermill": {
     "duration": 0.008067,
     "end_time": "2023-06-27T18:15:09.722639",
     "exception": false,
     "start_time": "2023-06-27T18:15:09.714572",
     "status": "completed"
    },
    "tags": []
   },
   "source": [
    "# Exercises"
   ]
  },
  {
   "cell_type": "markdown",
   "id": "1ff305a6",
   "metadata": {
    "papermill": {
     "duration": 0.009367,
     "end_time": "2023-06-27T18:15:09.740209",
     "exception": false,
     "start_time": "2023-06-27T18:15:09.730842",
     "status": "completed"
    },
    "tags": []
   },
   "source": [
    "## 1.\n",
    "Who are the most common wine reviewers in the dataset? Create a `Series` whose index is the `taster_twitter_handle` category from the dataset, and whose values count how many reviews each person wrote."
   ]
  },
  {
   "cell_type": "code",
   "execution_count": 2,
   "id": "722f3cb0",
   "metadata": {
    "execution": {
     "iopub.execute_input": "2023-06-27T18:15:09.757919Z",
     "iopub.status.busy": "2023-06-27T18:15:09.757528Z",
     "iopub.status.idle": "2023-06-27T18:15:09.803473Z",
     "shell.execute_reply": "2023-06-27T18:15:09.802308Z"
    },
    "papermill": {
     "duration": 0.057791,
     "end_time": "2023-06-27T18:15:09.805986",
     "exception": false,
     "start_time": "2023-06-27T18:15:09.748195",
     "status": "completed"
    },
    "tags": []
   },
   "outputs": [
    {
     "data": {
      "application/javascript": [
       "parent.postMessage({\"jupyterEvent\": \"custom.exercise_interaction\", \"data\": {\"outcomeType\": 1, \"valueTowardsCompletion\": 0.16666666666666666, \"interactionType\": 1, \"questionType\": 1, \"questionId\": \"1_ReviewsWritten\", \"learnToolsVersion\": \"0.3.4\", \"failureMessage\": \"\", \"exceptionClass\": \"\", \"trace\": \"\"}}, \"*\")"
      ],
      "text/plain": [
       "<IPython.core.display.Javascript object>"
      ]
     },
     "metadata": {},
     "output_type": "display_data"
    },
    {
     "data": {
      "text/markdown": [
       "<span style=\"color:#33cc33\">Correct:</span> \n",
       "\n",
       "\n",
       "```python\n",
       "reviews_written = reviews.groupby('taster_twitter_handle').size()\n",
       "```\n",
       "or\n",
       "```python\n",
       "reviews_written = reviews.groupby('taster_twitter_handle').taster_twitter_handle.count()\n",
       "```\n"
      ],
      "text/plain": [
       "Correct: \n",
       "\n",
       "\n",
       "```python\n",
       "reviews_written = reviews.groupby('taster_twitter_handle').size()\n",
       "```\n",
       "or\n",
       "```python\n",
       "reviews_written = reviews.groupby('taster_twitter_handle').taster_twitter_handle.count()\n",
       "```"
      ]
     },
     "metadata": {},
     "output_type": "display_data"
    }
   ],
   "source": [
    "# Your code here\n",
    "reviews_written = reviews.groupby('taster_twitter_handle').taster_twitter_handle.count()\n",
    "# Check your answer\n",
    "q1.check()"
   ]
  },
  {
   "cell_type": "code",
   "execution_count": 3,
   "id": "029704d2",
   "metadata": {
    "execution": {
     "iopub.execute_input": "2023-06-27T18:15:09.823936Z",
     "iopub.status.busy": "2023-06-27T18:15:09.823507Z",
     "iopub.status.idle": "2023-06-27T18:15:09.828341Z",
     "shell.execute_reply": "2023-06-27T18:15:09.827241Z"
    },
    "papermill": {
     "duration": 0.016426,
     "end_time": "2023-06-27T18:15:09.830620",
     "exception": false,
     "start_time": "2023-06-27T18:15:09.814194",
     "status": "completed"
    },
    "tags": []
   },
   "outputs": [],
   "source": [
    "#q1.hint()\n",
    "#q1.solution()"
   ]
  },
  {
   "cell_type": "markdown",
   "id": "942d4cc9",
   "metadata": {
    "papermill": {
     "duration": 0.00797,
     "end_time": "2023-06-27T18:15:09.846925",
     "exception": false,
     "start_time": "2023-06-27T18:15:09.838955",
     "status": "completed"
    },
    "tags": []
   },
   "source": [
    "## 2.\n",
    "What is the best wine I can buy for a given amount of money? Create a `Series` whose index is wine prices and whose values is the maximum number of points a wine costing that much was given in a review. Sort the values by price, ascending (so that `4.0` dollars is at the top and `3300.0` dollars is at the bottom)."
   ]
  },
  {
   "cell_type": "code",
   "execution_count": 4,
   "id": "e1457fd6",
   "metadata": {
    "execution": {
     "iopub.execute_input": "2023-06-27T18:15:09.864940Z",
     "iopub.status.busy": "2023-06-27T18:15:09.864314Z",
     "iopub.status.idle": "2023-06-27T18:15:09.878250Z",
     "shell.execute_reply": "2023-06-27T18:15:09.877195Z"
    },
    "papermill": {
     "duration": 0.025614,
     "end_time": "2023-06-27T18:15:09.880605",
     "exception": false,
     "start_time": "2023-06-27T18:15:09.854991",
     "status": "completed"
    },
    "tags": []
   },
   "outputs": [
    {
     "data": {
      "application/javascript": [
       "parent.postMessage({\"jupyterEvent\": \"custom.exercise_interaction\", \"data\": {\"outcomeType\": 1, \"valueTowardsCompletion\": 0.16666666666666666, \"interactionType\": 1, \"questionType\": 1, \"questionId\": \"2_BestRatingPerPrice\", \"learnToolsVersion\": \"0.3.4\", \"failureMessage\": \"\", \"exceptionClass\": \"\", \"trace\": \"\"}}, \"*\")"
      ],
      "text/plain": [
       "<IPython.core.display.Javascript object>"
      ]
     },
     "metadata": {},
     "output_type": "display_data"
    },
    {
     "data": {
      "text/markdown": [
       "<span style=\"color:#33cc33\">Correct</span>"
      ],
      "text/plain": [
       "Correct"
      ]
     },
     "metadata": {},
     "output_type": "display_data"
    }
   ],
   "source": [
    "best_rating_per_price = reviews.groupby('price').points.max().sort_index()\n",
    "\n",
    "# Check your answer\n",
    "q2.check()"
   ]
  },
  {
   "cell_type": "code",
   "execution_count": 5,
   "id": "41de219a",
   "metadata": {
    "execution": {
     "iopub.execute_input": "2023-06-27T18:15:09.900402Z",
     "iopub.status.busy": "2023-06-27T18:15:09.899964Z",
     "iopub.status.idle": "2023-06-27T18:15:09.908798Z",
     "shell.execute_reply": "2023-06-27T18:15:09.907632Z"
    },
    "papermill": {
     "duration": 0.021673,
     "end_time": "2023-06-27T18:15:09.911292",
     "exception": false,
     "start_time": "2023-06-27T18:15:09.889619",
     "status": "completed"
    },
    "tags": []
   },
   "outputs": [
    {
     "data": {
      "application/javascript": [
       "parent.postMessage({\"jupyterEvent\": \"custom.exercise_interaction\", \"data\": {\"interactionType\": 3, \"questionType\": 1, \"questionId\": \"2_BestRatingPerPrice\", \"learnToolsVersion\": \"0.3.4\", \"valueTowardsCompletion\": 0.0, \"failureMessage\": \"\", \"exceptionClass\": \"\", \"trace\": \"\", \"outcomeType\": 4}}, \"*\")"
      ],
      "text/plain": [
       "<IPython.core.display.Javascript object>"
      ]
     },
     "metadata": {},
     "output_type": "display_data"
    },
    {
     "data": {
      "text/markdown": [
       "<span style=\"color:#33cc99\">Solution:</span> \n",
       "```python\n",
       "best_rating_per_price = reviews.groupby('price')['points'].max().sort_index()\n",
       "```"
      ],
      "text/plain": [
       "Solution: \n",
       "```python\n",
       "best_rating_per_price = reviews.groupby('price')['points'].max().sort_index()\n",
       "```"
      ]
     },
     "metadata": {},
     "output_type": "display_data"
    }
   ],
   "source": [
    "#q2.hint()\n",
    "q2.solution()"
   ]
  },
  {
   "cell_type": "markdown",
   "id": "f85ad564",
   "metadata": {
    "papermill": {
     "duration": 0.008597,
     "end_time": "2023-06-27T18:15:09.928851",
     "exception": false,
     "start_time": "2023-06-27T18:15:09.920254",
     "status": "completed"
    },
    "tags": []
   },
   "source": [
    "## 3.\n",
    "What are the minimum and maximum prices for each `variety` of wine? Create a `DataFrame` whose index is the `variety` category from the dataset and whose values are the `min` and `max` values thereof."
   ]
  },
  {
   "cell_type": "code",
   "execution_count": 6,
   "id": "a04eba0d",
   "metadata": {
    "execution": {
     "iopub.execute_input": "2023-06-27T18:15:09.948427Z",
     "iopub.status.busy": "2023-06-27T18:15:09.948063Z",
     "iopub.status.idle": "2023-06-27T18:15:09.992897Z",
     "shell.execute_reply": "2023-06-27T18:15:09.991798Z"
    },
    "papermill": {
     "duration": 0.057544,
     "end_time": "2023-06-27T18:15:09.995213",
     "exception": false,
     "start_time": "2023-06-27T18:15:09.937669",
     "status": "completed"
    },
    "tags": []
   },
   "outputs": [
    {
     "name": "stdout",
     "output_type": "stream",
     "text": [
      "              min    max\n",
      "variety                 \n",
      "Abouriou     15.0   75.0\n",
      "Agiorgitiko  10.0   66.0\n",
      "Aglianico     6.0  180.0\n",
      "Aidani       27.0   27.0\n",
      "Airen         8.0   10.0\n",
      "...           ...    ...\n",
      "Zinfandel     5.0  100.0\n",
      "Zlahtina     13.0   16.0\n",
      "Zweigelt      9.0   70.0\n",
      "Çalkarası    19.0   19.0\n",
      "Žilavka      15.0   15.0\n",
      "\n",
      "[707 rows x 2 columns]\n"
     ]
    },
    {
     "data": {
      "application/javascript": [
       "parent.postMessage({\"jupyterEvent\": \"custom.exercise_interaction\", \"data\": {\"outcomeType\": 1, \"valueTowardsCompletion\": 0.16666666666666666, \"interactionType\": 1, \"questionType\": 1, \"questionId\": \"3_PriceExtremes\", \"learnToolsVersion\": \"0.3.4\", \"failureMessage\": \"\", \"exceptionClass\": \"\", \"trace\": \"\"}}, \"*\")"
      ],
      "text/plain": [
       "<IPython.core.display.Javascript object>"
      ]
     },
     "metadata": {},
     "output_type": "display_data"
    },
    {
     "data": {
      "text/markdown": [
       "<span style=\"color:#33cc33\">Correct</span>"
      ],
      "text/plain": [
       "Correct"
      ]
     },
     "metadata": {},
     "output_type": "display_data"
    }
   ],
   "source": [
    "price_extremes = reviews.groupby('variety').price.agg([min,max])\n",
    "print(price_extremes)\n",
    "\n",
    "# Check your answer\n",
    "q3.check()"
   ]
  },
  {
   "cell_type": "code",
   "execution_count": 7,
   "id": "2e73db8a",
   "metadata": {
    "execution": {
     "iopub.execute_input": "2023-06-27T18:15:10.015794Z",
     "iopub.status.busy": "2023-06-27T18:15:10.015382Z",
     "iopub.status.idle": "2023-06-27T18:15:10.020530Z",
     "shell.execute_reply": "2023-06-27T18:15:10.019321Z"
    },
    "papermill": {
     "duration": 0.01844,
     "end_time": "2023-06-27T18:15:10.023011",
     "exception": false,
     "start_time": "2023-06-27T18:15:10.004571",
     "status": "completed"
    },
    "tags": []
   },
   "outputs": [],
   "source": [
    "#q3.hint()\n",
    "#q3.solution()"
   ]
  },
  {
   "cell_type": "markdown",
   "id": "27d0eacc",
   "metadata": {
    "papermill": {
     "duration": 0.00937,
     "end_time": "2023-06-27T18:15:10.042005",
     "exception": false,
     "start_time": "2023-06-27T18:15:10.032635",
     "status": "completed"
    },
    "tags": []
   },
   "source": [
    "## 4.\n",
    "What are the most expensive wine varieties? Create a variable `sorted_varieties` containing a copy of the dataframe from the previous question where varieties are sorted in descending order based on minimum price, then on maximum price (to break ties)."
   ]
  },
  {
   "cell_type": "code",
   "execution_count": 8,
   "id": "db198f3a",
   "metadata": {
    "execution": {
     "iopub.execute_input": "2023-06-27T18:15:10.063585Z",
     "iopub.status.busy": "2023-06-27T18:15:10.063172Z",
     "iopub.status.idle": "2023-06-27T18:15:10.074215Z",
     "shell.execute_reply": "2023-06-27T18:15:10.073361Z"
    },
    "papermill": {
     "duration": 0.024617,
     "end_time": "2023-06-27T18:15:10.076429",
     "exception": false,
     "start_time": "2023-06-27T18:15:10.051812",
     "status": "completed"
    },
    "tags": []
   },
   "outputs": [
    {
     "data": {
      "application/javascript": [
       "parent.postMessage({\"jupyterEvent\": \"custom.exercise_interaction\", \"data\": {\"outcomeType\": 1, \"valueTowardsCompletion\": 0.16666666666666666, \"interactionType\": 1, \"questionType\": 1, \"questionId\": \"4_SortedVarieties\", \"learnToolsVersion\": \"0.3.4\", \"failureMessage\": \"\", \"exceptionClass\": \"\", \"trace\": \"\"}}, \"*\")"
      ],
      "text/plain": [
       "<IPython.core.display.Javascript object>"
      ]
     },
     "metadata": {},
     "output_type": "display_data"
    },
    {
     "data": {
      "text/markdown": [
       "<span style=\"color:#33cc33\">Correct</span>"
      ],
      "text/plain": [
       "Correct"
      ]
     },
     "metadata": {},
     "output_type": "display_data"
    }
   ],
   "source": [
    "sorted_varieties = price_extremes.sort_values(by = ['min','max'],ascending = False)\n",
    "\n",
    "# Check your answer\n",
    "q4.check()"
   ]
  },
  {
   "cell_type": "code",
   "execution_count": 9,
   "id": "d2e0a46a",
   "metadata": {
    "execution": {
     "iopub.execute_input": "2023-06-27T18:15:10.097622Z",
     "iopub.status.busy": "2023-06-27T18:15:10.097197Z",
     "iopub.status.idle": "2023-06-27T18:15:10.101489Z",
     "shell.execute_reply": "2023-06-27T18:15:10.100366Z"
    },
    "papermill": {
     "duration": 0.017875,
     "end_time": "2023-06-27T18:15:10.103995",
     "exception": false,
     "start_time": "2023-06-27T18:15:10.086120",
     "status": "completed"
    },
    "tags": []
   },
   "outputs": [],
   "source": [
    "#q4.hint()\n",
    "#q4.solution()"
   ]
  },
  {
   "cell_type": "markdown",
   "id": "28fcd6b0",
   "metadata": {
    "papermill": {
     "duration": 0.00967,
     "end_time": "2023-06-27T18:15:10.123311",
     "exception": false,
     "start_time": "2023-06-27T18:15:10.113641",
     "status": "completed"
    },
    "tags": []
   },
   "source": [
    "## 5.\n",
    "Create a `Series` whose index is reviewers and whose values is the average review score given out by that reviewer. Hint: you will need the `taster_name` and `points` columns."
   ]
  },
  {
   "cell_type": "code",
   "execution_count": 10,
   "id": "2d8ea708",
   "metadata": {
    "execution": {
     "iopub.execute_input": "2023-06-27T18:15:10.144714Z",
     "iopub.status.busy": "2023-06-27T18:15:10.144353Z",
     "iopub.status.idle": "2023-06-27T18:15:10.181091Z",
     "shell.execute_reply": "2023-06-27T18:15:10.179959Z"
    },
    "papermill": {
     "duration": 0.050455,
     "end_time": "2023-06-27T18:15:10.183510",
     "exception": false,
     "start_time": "2023-06-27T18:15:10.133055",
     "status": "completed"
    },
    "tags": []
   },
   "outputs": [
    {
     "name": "stdout",
     "output_type": "stream",
     "text": [
      "taster_name\n",
      "Alexander Peartree    85.855422\n",
      "Anna Lee C. Iijima    88.415629\n",
      "Anne Krebiehl MW      90.562551\n",
      "Carrie Dykes          86.395683\n",
      "Christina Pickard     87.833333\n",
      "Fiona Adams           86.888889\n",
      "Jeff Jenssen          88.319756\n",
      "Jim Gordon            88.626287\n",
      "Joe Czerwinski        88.536235\n",
      "Kerin O’Keefe         88.867947\n",
      "Lauren Buzzeo         87.739510\n",
      "Matt Kettmann         90.008686\n",
      "Michael Schachner     86.907493\n",
      "Mike DeSimone         89.101167\n",
      "Paul Gregutt          89.082564\n",
      "Roger Voss            88.708003\n",
      "Sean P. Sullivan      88.755739\n",
      "Susan Kostrzewa       86.609217\n",
      "Virginie Boone        89.213379\n",
      "Name: points, dtype: float64\n"
     ]
    },
    {
     "data": {
      "application/javascript": [
       "parent.postMessage({\"jupyterEvent\": \"custom.exercise_interaction\", \"data\": {\"outcomeType\": 1, \"valueTowardsCompletion\": 0.16666666666666666, \"interactionType\": 1, \"questionType\": 1, \"questionId\": \"5_ReviewerMeanRatings\", \"learnToolsVersion\": \"0.3.4\", \"failureMessage\": \"\", \"exceptionClass\": \"\", \"trace\": \"\"}}, \"*\")"
      ],
      "text/plain": [
       "<IPython.core.display.Javascript object>"
      ]
     },
     "metadata": {},
     "output_type": "display_data"
    },
    {
     "data": {
      "text/markdown": [
       "<span style=\"color:#33cc33\">Correct</span>"
      ],
      "text/plain": [
       "Correct"
      ]
     },
     "metadata": {},
     "output_type": "display_data"
    }
   ],
   "source": [
    "reviewer_mean_ratings = reviews.groupby('taster_name').points.mean()\n",
    "print(reviewer_mean_ratings)\n",
    "# Check your answer\n",
    "q5.check()"
   ]
  },
  {
   "cell_type": "code",
   "execution_count": 11,
   "id": "64244c57",
   "metadata": {
    "execution": {
     "iopub.execute_input": "2023-06-27T18:15:10.205825Z",
     "iopub.status.busy": "2023-06-27T18:15:10.205441Z",
     "iopub.status.idle": "2023-06-27T18:15:10.210550Z",
     "shell.execute_reply": "2023-06-27T18:15:10.209340Z"
    },
    "papermill": {
     "duration": 0.019214,
     "end_time": "2023-06-27T18:15:10.212997",
     "exception": false,
     "start_time": "2023-06-27T18:15:10.193783",
     "status": "completed"
    },
    "tags": []
   },
   "outputs": [],
   "source": [
    "#q5.hint()\n",
    "#q5.solution()"
   ]
  },
  {
   "cell_type": "markdown",
   "id": "5892f25c",
   "metadata": {
    "papermill": {
     "duration": 0.009879,
     "end_time": "2023-06-27T18:15:10.235080",
     "exception": false,
     "start_time": "2023-06-27T18:15:10.225201",
     "status": "completed"
    },
    "tags": []
   },
   "source": [
    "Are there significant differences in the average scores assigned by the various reviewers? Run the cell below to use the `describe()` method to see a summary of the range of values."
   ]
  },
  {
   "cell_type": "code",
   "execution_count": 12,
   "id": "037487d0",
   "metadata": {
    "execution": {
     "iopub.execute_input": "2023-06-27T18:15:10.257715Z",
     "iopub.status.busy": "2023-06-27T18:15:10.256563Z",
     "iopub.status.idle": "2023-06-27T18:15:10.271633Z",
     "shell.execute_reply": "2023-06-27T18:15:10.270181Z"
    },
    "papermill": {
     "duration": 0.029221,
     "end_time": "2023-06-27T18:15:10.274386",
     "exception": false,
     "start_time": "2023-06-27T18:15:10.245165",
     "status": "completed"
    },
    "tags": []
   },
   "outputs": [
    {
     "data": {
      "text/plain": [
       "count    19.000000\n",
       "mean     88.233026\n",
       "std       1.243610\n",
       "min      85.855422\n",
       "25%      87.323501\n",
       "50%      88.536235\n",
       "75%      88.975256\n",
       "max      90.562551\n",
       "Name: points, dtype: float64"
      ]
     },
     "execution_count": 12,
     "metadata": {},
     "output_type": "execute_result"
    }
   ],
   "source": [
    "reviewer_mean_ratings.describe()"
   ]
  },
  {
   "cell_type": "markdown",
   "id": "d02547af",
   "metadata": {
    "papermill": {
     "duration": 0.009965,
     "end_time": "2023-06-27T18:15:10.294951",
     "exception": false,
     "start_time": "2023-06-27T18:15:10.284986",
     "status": "completed"
    },
    "tags": []
   },
   "source": [
    "## 6.\n",
    "What combination of countries and varieties are most common? Create a `Series` whose index is a `MultiIndex`of `{country, variety}` pairs. For example, a pinot noir produced in the US should map to `{\"US\", \"Pinot Noir\"}`. Sort the values in the `Series` in descending order based on wine count."
   ]
  },
  {
   "cell_type": "code",
   "execution_count": 13,
   "id": "8add6747",
   "metadata": {
    "execution": {
     "iopub.execute_input": "2023-06-27T18:15:10.317771Z",
     "iopub.status.busy": "2023-06-27T18:15:10.317357Z",
     "iopub.status.idle": "2023-06-27T18:15:10.387741Z",
     "shell.execute_reply": "2023-06-27T18:15:10.386635Z"
    },
    "papermill": {
     "duration": 0.084718,
     "end_time": "2023-06-27T18:15:10.390401",
     "exception": false,
     "start_time": "2023-06-27T18:15:10.305683",
     "status": "completed"
    },
    "tags": []
   },
   "outputs": [
    {
     "name": "stdout",
     "output_type": "stream",
     "text": [
      "country  variety                 \n",
      "US       Pinot Noir                  9885\n",
      "         Cabernet Sauvignon          7315\n",
      "         Chardonnay                  6801\n",
      "France   Bordeaux-style Red Blend    4725\n",
      "Italy    Red Blend                   3624\n",
      "                                     ... \n",
      "Mexico   Cinsault                       1\n",
      "         Grenache                       1\n",
      "         Merlot                         1\n",
      "         Rosado                         1\n",
      "Uruguay  White Blend                    1\n",
      "Length: 1612, dtype: int64\n"
     ]
    },
    {
     "data": {
      "application/javascript": [
       "parent.postMessage({\"jupyterEvent\": \"custom.exercise_interaction\", \"data\": {\"outcomeType\": 1, \"valueTowardsCompletion\": 0.16666666666666666, \"interactionType\": 1, \"questionType\": 1, \"questionId\": \"6_GroupbyCountryVariety\", \"learnToolsVersion\": \"0.3.4\", \"failureMessage\": \"\", \"exceptionClass\": \"\", \"trace\": \"\"}}, \"*\")"
      ],
      "text/plain": [
       "<IPython.core.display.Javascript object>"
      ]
     },
     "metadata": {},
     "output_type": "display_data"
    },
    {
     "data": {
      "text/markdown": [
       "<span style=\"color:#33cc33\">Correct</span>"
      ],
      "text/plain": [
       "Correct"
      ]
     },
     "metadata": {},
     "output_type": "display_data"
    }
   ],
   "source": [
    "country_variety_counts = reviews.groupby(['country','variety']).size().sort_values(ascending = False)\n",
    "print(country_variety_counts)\n",
    "\n",
    "# Check your answer\n",
    "q6.check()"
   ]
  },
  {
   "cell_type": "code",
   "execution_count": 14,
   "id": "72859087",
   "metadata": {
    "execution": {
     "iopub.execute_input": "2023-06-27T18:15:10.413650Z",
     "iopub.status.busy": "2023-06-27T18:15:10.413237Z",
     "iopub.status.idle": "2023-06-27T18:15:10.418053Z",
     "shell.execute_reply": "2023-06-27T18:15:10.416943Z"
    },
    "papermill": {
     "duration": 0.01919,
     "end_time": "2023-06-27T18:15:10.420342",
     "exception": false,
     "start_time": "2023-06-27T18:15:10.401152",
     "status": "completed"
    },
    "tags": []
   },
   "outputs": [],
   "source": [
    "#q6.hint()\n",
    "#q6.solution()"
   ]
  },
  {
   "cell_type": "markdown",
   "id": "f6be3626",
   "metadata": {
    "papermill": {
     "duration": 0.010571,
     "end_time": "2023-06-27T18:15:10.442206",
     "exception": false,
     "start_time": "2023-06-27T18:15:10.431635",
     "status": "completed"
    },
    "tags": []
   },
   "source": [
    "# Keep going\n",
    "\n",
    "Move on to the [**data types and missing data**](https://www.kaggle.com/residentmario/data-types-and-missing-values)."
   ]
  },
  {
   "cell_type": "markdown",
   "id": "e08a601c",
   "metadata": {
    "papermill": {
     "duration": 0.010323,
     "end_time": "2023-06-27T18:15:10.463417",
     "exception": false,
     "start_time": "2023-06-27T18:15:10.453094",
     "status": "completed"
    },
    "tags": []
   },
   "source": [
    "---\n",
    "\n",
    "\n",
    "\n",
    "\n",
    "*Have questions or comments? Visit the [course discussion forum](https://www.kaggle.com/learn/pandas/discussion) to chat with other learners.*"
   ]
  }
 ],
 "metadata": {
  "kernelspec": {
   "display_name": "Python 3",
   "language": "python",
   "name": "python3"
  },
  "language_info": {
   "codemirror_mode": {
    "name": "ipython",
    "version": 3
   },
   "file_extension": ".py",
   "mimetype": "text/x-python",
   "name": "python",
   "nbconvert_exporter": "python",
   "pygments_lexer": "ipython3",
   "version": "3.10.10"
  },
  "papermill": {
   "default_parameters": {},
   "duration": 19.693284,
   "end_time": "2023-06-27T18:15:13.526152",
   "environment_variables": {},
   "exception": null,
   "input_path": "__notebook__.ipynb",
   "output_path": "__notebook__.ipynb",
   "parameters": {},
   "start_time": "2023-06-27T18:14:53.832868",
   "version": "2.4.0"
  }
 },
 "nbformat": 4,
 "nbformat_minor": 5
}
